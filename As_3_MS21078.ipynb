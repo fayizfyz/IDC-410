{
  "cells": [
    {
      "cell_type": "markdown",
      "source": [
        "# **Implementing A Multi-layered Perceptron Using Numpy**\n",
        "\n",
        "---\n",
        "\n",
        "\n"
      ],
      "metadata": {
        "id": "YzeSV5aFgmOO"
      }
    },
    {
      "cell_type": "markdown",
      "metadata": {
        "id": "AlC-5x_CwbKK"
      },
      "source": [
        "#Problem 1:\n",
        "\n",
        "Here you must read an input file. Each line contains 785 numbers (comma delimited): the first number in each row denotes the class label: 0 corresponds to digit 0, 1 corresponds to digit 1, etc. The rest of the values are the 784 pixel values between 0 and 255 correspondig to black and white images.  As a warm up  question, load the data.\n",
        "\n",
        "For this problem you must write a function that takes a file path as an argument which contains  this data. Your function must return two values (x and y) that contains the data from the file as  described. Specifically, the first return value (x) must be a matrix where the rows are individual  examples of images, and the columns are individual pixels (n x 784 matrix). The second return value  must be a list/array of real numbers representing the labels of the examples (rows) in x."
      ]
    },
    {
      "cell_type": "code",
      "execution_count": 1,
      "metadata": {
        "id": "wg6y4Tj1wT_7"
      },
      "outputs": [],
      "source": [
        "#Packages\n",
        "import numpy as np\n",
        "import pandas as pd"
      ]
    },
    {
      "cell_type": "code",
      "execution_count": 2,
      "metadata": {
        "colab": {
          "base_uri": "https://localhost:8080/"
        },
        "id": "T5Ap0Uh4hdln",
        "outputId": "461364ad-c837-4961-a75c-1b6a8627803a"
      },
      "outputs": [
        {
          "output_type": "stream",
          "name": "stdout",
          "text": [
            "x: [[0.0, 0.0, 0.0, 0.0, 0.0, 0.0, 0.0, 0.0, 0.0, 0.0, 0.0, 0.0, 0.0, 0.0, 0.0, 0.0, 0.0, 0.0, 0.0, 0.0, 0.0, 0.0, 0.0, 0.0, 0.0, 0.0, 0.0, 0.0, 0.0, 0.0, 0.0, 0.0, 0.0, 0.0, 0.0, 0.0, 0.0, 0.0, 0.0, 0.0, 0.0, 0.0, 0.0, 0.0, 0.0, 0.0, 0.0, 0.0, 0.0, 0.0, 0.0, 0.0, 0.0, 0.0, 0.0, 0.0, 0.0, 0.0, 0.0, 0.0, 0.0, 0.0, 0.0, 0.0, 0.0, 0.0, 0.0, 0.0, 0.0, 0.0, 0.0, 0.0, 0.0, 0.0, 0.0, 0.0, 0.0, 0.0, 0.0, 0.0, 0.0, 0.0, 0.0, 0.0, 0.0, 0.0, 0.0, 0.0, 0.0, 0.0, 0.0, 0.0, 0.0, 0.0, 0.0, 0.0, 0.0, 0.0, 0.0, 0.0, 0.0, 0.0, 0.0, 0.0, 0.0, 0.0, 0.0, 0.0, 0.0, 0.0, 0.0, 0.0, 0.0, 0.0, 0.0, 0.0, 0.0, 0.0, 0.0, 0.0, 0.0, 0.0, 0.0, 0.0, 0.0, 0.0, 0.0, 0.0, 0.0, 0.0, 0.0, 0.0, 0.0, 0.0, 0.0, 0.0, 0.0, 0.0, 0.0, 0.0, 0.0, 0.0, 0.0, 0.0, 0.0, 0.0, 0.0, 0.0, 0.0, 0.0, 0.0, 0.0, 3.0, 18.0, 18.0, 18.0, 126.0, 136.0, 175.0, 26.0, 166.0, 255.0, 247.0, 127.0, 0.0, 0.0, 0.0, 0.0, 0.0, 0.0, 0.0, 0.0, 0.0, 0.0, 0.0, 0.0, 30.0, 36.0, 94.0, 154.0, 170.0, 253.0, 253.0, 253.0, 253.0, 253.0, 225.0, 172.0, 253.0, 242.0, 195.0, 64.0, 0.0, 0.0, 0.0, 0.0, 0.0, 0.0, 0.0, 0.0, 0.0, 0.0, 0.0, 49.0, 238.0, 253.0, 253.0, 253.0, 253.0, 253.0, 253.0, 253.0, 253.0, 251.0, 93.0, 82.0, 82.0, 56.0, 39.0, 0.0, 0.0, 0.0, 0.0, 0.0, 0.0, 0.0, 0.0, 0.0, 0.0, 0.0, 0.0, 18.0, 219.0, 253.0, 253.0, 253.0, 253.0, 253.0, 198.0, 182.0, 247.0, 241.0, 0.0, 0.0, 0.0, 0.0, 0.0, 0.0, 0.0, 0.0, 0.0, 0.0, 0.0, 0.0, 0.0, 0.0, 0.0, 0.0, 0.0, 0.0, 80.0, 156.0, 107.0, 253.0, 253.0, 205.0, 11.0, 0.0, 43.0, 154.0, 0.0, 0.0, 0.0, 0.0, 0.0, 0.0, 0.0, 0.0, 0.0, 0.0, 0.0, 0.0, 0.0, 0.0, 0.0, 0.0, 0.0, 0.0, 0.0, 14.0, 1.0, 154.0, 253.0, 90.0, 0.0, 0.0, 0.0, 0.0, 0.0, 0.0, 0.0, 0.0, 0.0, 0.0, 0.0, 0.0, 0.0, 0.0, 0.0, 0.0, 0.0, 0.0, 0.0, 0.0, 0.0, 0.0, 0.0, 0.0, 0.0, 139.0, 253.0, 190.0, 2.0, 0.0, 0.0, 0.0, 0.0, 0.0, 0.0, 0.0, 0.0, 0.0, 0.0, 0.0, 0.0, 0.0, 0.0, 0.0, 0.0, 0.0, 0.0, 0.0, 0.0, 0.0, 0.0, 0.0, 0.0, 11.0, 190.0, 253.0, 70.0, 0.0, 0.0, 0.0, 0.0, 0.0, 0.0, 0.0, 0.0, 0.0, 0.0, 0.0, 0.0, 0.0, 0.0, 0.0, 0.0, 0.0, 0.0, 0.0, 0.0, 0.0, 0.0, 0.0, 0.0, 0.0, 35.0, 241.0, 225.0, 160.0, 108.0, 1.0, 0.0, 0.0, 0.0, 0.0, 0.0, 0.0, 0.0, 0.0, 0.0, 0.0, 0.0, 0.0, 0.0, 0.0, 0.0, 0.0, 0.0, 0.0, 0.0, 0.0, 0.0, 0.0, 0.0, 81.0, 240.0, 253.0, 253.0, 119.0, 25.0, 0.0, 0.0, 0.0, 0.0, 0.0, 0.0, 0.0, 0.0, 0.0, 0.0, 0.0, 0.0, 0.0, 0.0, 0.0, 0.0, 0.0, 0.0, 0.0, 0.0, 0.0, 0.0, 0.0, 45.0, 186.0, 253.0, 253.0, 150.0, 27.0, 0.0, 0.0, 0.0, 0.0, 0.0, 0.0, 0.0, 0.0, 0.0, 0.0, 0.0, 0.0, 0.0, 0.0, 0.0, 0.0, 0.0, 0.0, 0.0, 0.0, 0.0, 0.0, 0.0, 16.0, 93.0, 252.0, 253.0, 187.0, 0.0, 0.0, 0.0, 0.0, 0.0, 0.0, 0.0, 0.0, 0.0, 0.0, 0.0, 0.0, 0.0, 0.0, 0.0, 0.0, 0.0, 0.0, 0.0, 0.0, 0.0, 0.0, 0.0, 0.0, 0.0, 249.0, 253.0, 249.0, 64.0, 0.0, 0.0, 0.0, 0.0, 0.0, 0.0, 0.0, 0.0, 0.0, 0.0, 0.0, 0.0, 0.0, 0.0, 0.0, 0.0, 0.0, 0.0, 0.0, 0.0, 0.0, 46.0, 130.0, 183.0, 253.0, 253.0, 207.0, 2.0, 0.0, 0.0, 0.0, 0.0, 0.0, 0.0, 0.0, 0.0, 0.0, 0.0, 0.0, 0.0, 0.0, 0.0, 0.0, 0.0, 0.0, 0.0, 0.0, 39.0, 148.0, 229.0, 253.0, 253.0, 253.0, 250.0, 182.0, 0.0, 0.0, 0.0, 0.0, 0.0, 0.0, 0.0, 0.0, 0.0, 0.0, 0.0, 0.0, 0.0, 0.0, 0.0, 0.0, 0.0, 0.0, 24.0, 114.0, 221.0, 253.0, 253.0, 253.0, 253.0, 201.0, 78.0, 0.0, 0.0, 0.0, 0.0, 0.0, 0.0, 0.0, 0.0, 0.0, 0.0, 0.0, 0.0, 0.0, 0.0, 0.0, 0.0, 0.0, 23.0, 66.0, 213.0, 253.0, 253.0, 253.0, 253.0, 198.0, 81.0, 2.0, 0.0, 0.0, 0.0, 0.0, 0.0, 0.0, 0.0, 0.0, 0.0, 0.0, 0.0, 0.0, 0.0, 0.0, 0.0, 0.0, 18.0, 171.0, 219.0, 253.0, 253.0, 253.0, 253.0, 195.0, 80.0, 9.0, 0.0, 0.0, 0.0, 0.0, 0.0, 0.0, 0.0, 0.0, 0.0, 0.0, 0.0, 0.0, 0.0, 0.0, 0.0, 0.0, 55.0, 172.0, 226.0, 253.0, 253.0, 253.0, 253.0, 244.0, 133.0, 11.0, 0.0, 0.0, 0.0, 0.0, 0.0, 0.0, 0.0, 0.0, 0.0, 0.0, 0.0, 0.0, 0.0, 0.0, 0.0, 0.0, 0.0, 0.0, 136.0, 253.0, 253.0, 253.0, 212.0, 135.0, 132.0, 16.0, 0.0, 0.0, 0.0, 0.0, 0.0, 0.0, 0.0, 0.0, 0.0, 0.0, 0.0, 0.0, 0.0, 0.0, 0.0, 0.0, 0.0, 0.0, 0.0, 0.0, 0.0, 0.0, 0.0, 0.0, 0.0, 0.0, 0.0, 0.0, 0.0, 0.0, 0.0, 0.0, 0.0, 0.0, 0.0, 0.0, 0.0, 0.0, 0.0, 0.0, 0.0, 0.0, 0.0, 0.0, 0.0, 0.0, 0.0, 0.0, 0.0, 0.0, 0.0, 0.0, 0.0, 0.0, 0.0, 0.0, 0.0, 0.0, 0.0, 0.0, 0.0, 0.0, 0.0, 0.0, 0.0, 0.0, 0.0, 0.0, 0.0, 0.0, 0.0, 0.0, 0.0, 0.0, 0.0, 0.0, 0.0, 0.0, 0.0, 0.0, 0.0, 0.0, 0.0, 0.0, 0.0, 0.0, 0.0, 0.0, 0.0, 0.0, 0.0, 0.0, 0.0, 0.0, 0.0, 0.0, 0.0, 0.0, 0.0, 0.0], [0.0, 0.0, 0.0, 0.0, 0.0, 0.0, 0.0, 0.0, 0.0, 0.0, 0.0, 0.0, 0.0, 0.0, 0.0, 0.0, 0.0, 0.0, 0.0, 0.0, 0.0, 0.0, 0.0, 0.0, 0.0, 0.0, 0.0, 0.0, 0.0, 0.0, 0.0, 0.0, 0.0, 0.0, 0.0, 0.0, 0.0, 0.0, 0.0, 0.0, 0.0, 0.0, 0.0, 0.0, 0.0, 0.0, 0.0, 0.0, 0.0, 0.0, 0.0, 0.0, 0.0, 0.0, 0.0, 0.0, 0.0, 0.0, 0.0, 0.0, 0.0, 0.0, 0.0, 0.0, 0.0, 0.0, 0.0, 0.0, 0.0, 0.0, 0.0, 0.0, 0.0, 0.0, 0.0, 0.0, 0.0, 0.0, 0.0, 0.0, 0.0, 0.0, 0.0, 0.0, 0.0, 0.0, 0.0, 0.0, 0.0, 0.0, 0.0, 0.0, 0.0, 0.0, 0.0, 0.0, 0.0, 0.0, 0.0, 0.0, 0.0, 0.0, 0.0, 0.0, 0.0, 0.0, 0.0, 0.0, 0.0, 0.0, 0.0, 0.0, 0.0, 0.0, 0.0, 0.0, 0.0, 0.0, 0.0, 0.0, 0.0, 0.0, 0.0, 0.0, 0.0, 0.0, 0.0, 51.0, 159.0, 253.0, 159.0, 50.0, 0.0, 0.0, 0.0, 0.0, 0.0, 0.0, 0.0, 0.0, 0.0, 0.0, 0.0, 0.0, 0.0, 0.0, 0.0, 0.0, 0.0, 0.0, 0.0, 0.0, 0.0, 0.0, 48.0, 238.0, 252.0, 252.0, 252.0, 237.0, 0.0, 0.0, 0.0, 0.0, 0.0, 0.0, 0.0, 0.0, 0.0, 0.0, 0.0, 0.0, 0.0, 0.0, 0.0, 0.0, 0.0, 0.0, 0.0, 0.0, 0.0, 54.0, 227.0, 253.0, 252.0, 239.0, 233.0, 252.0, 57.0, 6.0, 0.0, 0.0, 0.0, 0.0, 0.0, 0.0, 0.0, 0.0, 0.0, 0.0, 0.0, 0.0, 0.0, 0.0, 0.0, 0.0, 0.0, 10.0, 60.0, 224.0, 252.0, 253.0, 252.0, 202.0, 84.0, 252.0, 253.0, 122.0, 0.0, 0.0, 0.0, 0.0, 0.0, 0.0, 0.0, 0.0, 0.0, 0.0, 0.0, 0.0, 0.0, 0.0, 0.0, 0.0, 0.0, 163.0, 252.0, 252.0, 252.0, 253.0, 252.0, 252.0, 96.0, 189.0, 253.0, 167.0, 0.0, 0.0, 0.0, 0.0, 0.0, 0.0, 0.0, 0.0, 0.0, 0.0, 0.0, 0.0, 0.0, 0.0, 0.0, 0.0, 51.0, 238.0, 253.0, 253.0, 190.0, 114.0, 253.0, 228.0, 47.0, 79.0, 255.0, 168.0, 0.0, 0.0, 0.0, 0.0, 0.0, 0.0, 0.0, 0.0, 0.0, 0.0, 0.0, 0.0, 0.0, 0.0, 0.0, 48.0, 238.0, 252.0, 252.0, 179.0, 12.0, 75.0, 121.0, 21.0, 0.0, 0.0, 253.0, 243.0, 50.0, 0.0, 0.0, 0.0, 0.0, 0.0, 0.0, 0.0, 0.0, 0.0, 0.0, 0.0, 0.0, 0.0, 38.0, 165.0, 253.0, 233.0, 208.0, 84.0, 0.0, 0.0, 0.0, 0.0, 0.0, 0.0, 253.0, 252.0, 165.0, 0.0, 0.0, 0.0, 0.0, 0.0, 0.0, 0.0, 0.0, 0.0, 0.0, 0.0, 0.0, 7.0, 178.0, 252.0, 240.0, 71.0, 19.0, 28.0, 0.0, 0.0, 0.0, 0.0, 0.0, 0.0, 253.0, 252.0, 195.0, 0.0, 0.0, 0.0, 0.0, 0.0, 0.0, 0.0, 0.0, 0.0, 0.0, 0.0, 0.0, 57.0, 252.0, 252.0, 63.0, 0.0, 0.0, 0.0, 0.0, 0.0, 0.0, 0.0, 0.0, 0.0, 253.0, 252.0, 195.0, 0.0, 0.0, 0.0, 0.0, 0.0, 0.0, 0.0, 0.0, 0.0, 0.0, 0.0, 0.0, 198.0, 253.0, 190.0, 0.0, 0.0, 0.0, 0.0, 0.0, 0.0, 0.0, 0.0, 0.0, 0.0, 255.0, 253.0, 196.0, 0.0, 0.0, 0.0, 0.0, 0.0, 0.0, 0.0, 0.0, 0.0, 0.0, 0.0, 76.0, 246.0, 252.0, 112.0, 0.0, 0.0, 0.0, 0.0, 0.0, 0.0, 0.0, 0.0, 0.0, 0.0, 253.0, 252.0, 148.0, 0.0, 0.0, 0.0, 0.0, 0.0, 0.0, 0.0, 0.0, 0.0, 0.0, 0.0, 85.0, 252.0, 230.0, 25.0, 0.0, 0.0, 0.0, 0.0, 0.0, 0.0, 0.0, 0.0, 7.0, 135.0, 253.0, 186.0, 12.0, 0.0, 0.0, 0.0, 0.0, 0.0, 0.0, 0.0, 0.0, 0.0, 0.0, 0.0, 85.0, 252.0, 223.0, 0.0, 0.0, 0.0, 0.0, 0.0, 0.0, 0.0, 0.0, 7.0, 131.0, 252.0, 225.0, 71.0, 0.0, 0.0, 0.0, 0.0, 0.0, 0.0, 0.0, 0.0, 0.0, 0.0, 0.0, 0.0, 85.0, 252.0, 145.0, 0.0, 0.0, 0.0, 0.0, 0.0, 0.0, 0.0, 48.0, 165.0, 252.0, 173.0, 0.0, 0.0, 0.0, 0.0, 0.0, 0.0, 0.0, 0.0, 0.0, 0.0, 0.0, 0.0, 0.0, 0.0, 86.0, 253.0, 225.0, 0.0, 0.0, 0.0, 0.0, 0.0, 0.0, 114.0, 238.0, 253.0, 162.0, 0.0, 0.0, 0.0, 0.0, 0.0, 0.0, 0.0, 0.0, 0.0, 0.0, 0.0, 0.0, 0.0, 0.0, 0.0, 85.0, 252.0, 249.0, 146.0, 48.0, 29.0, 85.0, 178.0, 225.0, 253.0, 223.0, 167.0, 56.0, 0.0, 0.0, 0.0, 0.0, 0.0, 0.0, 0.0, 0.0, 0.0, 0.0, 0.0, 0.0, 0.0, 0.0, 0.0, 85.0, 252.0, 252.0, 252.0, 229.0, 215.0, 252.0, 252.0, 252.0, 196.0, 130.0, 0.0, 0.0, 0.0, 0.0, 0.0, 0.0, 0.0, 0.0, 0.0, 0.0, 0.0, 0.0, 0.0, 0.0, 0.0, 0.0, 0.0, 28.0, 199.0, 252.0, 252.0, 253.0, 252.0, 252.0, 233.0, 145.0, 0.0, 0.0, 0.0, 0.0, 0.0, 0.0, 0.0, 0.0, 0.0, 0.0, 0.0, 0.0, 0.0, 0.0, 0.0, 0.0, 0.0, 0.0, 0.0, 0.0, 25.0, 128.0, 252.0, 253.0, 252.0, 141.0, 37.0, 0.0, 0.0, 0.0, 0.0, 0.0, 0.0, 0.0, 0.0, 0.0, 0.0, 0.0, 0.0, 0.0, 0.0, 0.0, 0.0, 0.0, 0.0, 0.0, 0.0, 0.0, 0.0, 0.0, 0.0, 0.0, 0.0, 0.0, 0.0, 0.0, 0.0, 0.0, 0.0, 0.0, 0.0, 0.0, 0.0, 0.0, 0.0, 0.0, 0.0, 0.0, 0.0, 0.0, 0.0, 0.0, 0.0, 0.0, 0.0, 0.0, 0.0, 0.0, 0.0, 0.0, 0.0, 0.0, 0.0, 0.0, 0.0, 0.0, 0.0, 0.0, 0.0, 0.0, 0.0, 0.0, 0.0, 0.0, 0.0, 0.0, 0.0, 0.0, 0.0, 0.0, 0.0, 0.0, 0.0, 0.0, 0.0, 0.0, 0.0, 0.0, 0.0, 0.0, 0.0, 0.0, 0.0, 0.0, 0.0, 0.0, 0.0, 0.0, 0.0, 0.0, 0.0, 0.0, 0.0, 0.0, 0.0, 0.0, 0.0, 0.0, 0.0, 0.0, 0.0, 0.0, 0.0, 0.0, 0.0, 0.0, 0.0, 0.0, 0.0, 0.0, 0.0, 0.0, 0.0, 0.0, 0.0, 0.0, 0.0, 0.0, 0.0, 0.0, 0.0, 0.0, 0.0]]\n",
            "y: [5, 0]\n"
          ]
        }
      ],
      "source": [
        "def read_image_data(file_path):\n",
        "    x = []\n",
        "    y = []\n",
        "\n",
        "    with open(file_path, 'r') as file:\n",
        "        next(file)\n",
        "        for line in file:\n",
        "            values = line.strip().split(',')  # Split\n",
        "            label = int(values[0])\n",
        "            pixels = [float(val) for val in values[1:]]\n",
        "            x.append(pixels)\n",
        "            y.append(label)\n",
        "\n",
        "    return x, y\n",
        "\n",
        "#mnist dataset is stored in my Gdrive\n",
        "x, y = read_image_data('/content/drive/MyDrive/mnist_train.csv')\n",
        "print(\"x:\", x[:2])\n",
        "print(\"y:\", y[:2])\n"
      ]
    },
    {
      "cell_type": "code",
      "execution_count": 11,
      "metadata": {
        "id": "VmEG0d2WytJi",
        "colab": {
          "base_uri": "https://localhost:8080/",
          "height": 447
        },
        "outputId": "00680359-f478-4e6d-d287-53d6d1019243"
      },
      "outputs": [
        {
          "output_type": "stream",
          "name": "stdout",
          "text": [
            "Label for the image is  4\n"
          ]
        },
        {
          "output_type": "display_data",
          "data": {
            "text/plain": [
              "<Figure size 640x480 with 1 Axes>"
            ],
            "image/png": "[encoded data removed]"
          },
          "metadata": {}
        }
      ],
      "source": [
        "#Understanding the data\n",
        "import matplotlib.pyplot as plt\n",
        "i=6424\n",
        "img=np.array(x[i])\n",
        "img=img.reshape(28,28)\n",
        "plt.imshow(img)\n",
        "print(\"Label for the image is \",y[i])"
      ]
    },
    {
      "cell_type": "markdown",
      "metadata": {
        "id": "ZFQAqeP02PlG"
      },
      "source": [
        "#Problem 2:\n",
        "\n",
        "Implement the backpropagation algorithm in a zero hidden layer neural network (weights between input and output nodes). The output layer should be a softmax output over 10 classes corresponding to 10 classes of handwritten digits (e.g. An architecture: 784 > 10). Your backprop code should minimize the cross-entropy function for multi-class classification problems (categorical  cross entropy).\n",
        "\n",
        " $\\text{Loss} = - \\sum_j \\text{target}_j \\cdot \\log(\\text{prediction}_j)$\n",
        "\n",
        "\n",
        "where j is the class label\n",
        "\n",
        "This step should be done with a full step of gradient descent, not stochastic gradient descent or rmsprop. For this  problem you must write a function that takes as an input a matrix of x values, a list of y values (as  returned from problem 1), a weight matrix, and a learning rate and performs a single step of  backpropagation. You will need to do both a forward step with the inputs, and then a backward prop to  get the gradients. Return the updated weight matrix and bias in the same format as it was passed.\n",
        "\n",
        "The list of weight matrices will be a list with 1 entry where the only entry is a matrix in the  format where the rows represent all of the outgoing weights for a neuron in the input layer and the  columns represent the weights for the incoming neurons. A specific row column index will give you the  weight for a neuron to neuron connection.\n",
        "\n",
        "The list of bias vectors will be in the form where each entry in the list is a vector with the same  length as the first set of weights. (e.g. For an architecture of 784 > 10, there will be a single element list  with a vector of size 10)."
      ]
    },
    {
      "cell_type": "code",
      "source": [
        "class Network1(object):\n",
        "    def __init__(self, sizes):\n",
        "        self.sizes = sizes\n",
        "        self.biases = [np.random.randn(y, 1) for y in sizes[1:]]\n",
        "        self.weights = [np.random.randn(y, x) for x, y in zip(sizes[:-1], sizes[1:])]\n",
        "\n",
        "\n",
        "    def feedforward(self, a):\n",
        "        z = np.dot(self.weights[0], a) + self.biases[0]\n",
        "        return softmax(z)\n",
        "\n",
        "    def gradient_descent1(self, x, y, learning_rate):\n",
        "        # Forward pass\n",
        "        z = np.dot(self.weights[0], x) + self.biases[0]\n",
        "        activation = softmax(z)\n",
        "\n",
        "        # Backward pass\n",
        "        delta = activation - y\n",
        "\n",
        "        nabla_b = delta\n",
        "        nabla_w = np.dot(delta, x.transpose())\n",
        "\n",
        "        # Gradient descent update\n",
        "        self.weights[0] -= learning_rate * nabla_w\n",
        "        self.biases[0] -= learning_rate * nabla_b\n",
        "        # Compute and return loss\n",
        "        loss = -np.sum(y * np.log(activation))\n",
        "        return loss\n",
        "\n",
        "def softmax(z):\n",
        "    max_z = np.max(z)\n",
        "    exp_scores = np.exp(z - max_z)  # Softmax normalization\n",
        "    return exp_scores / np.sum(exp_scores)"
      ],
      "metadata": {
        "id": "_zch0Feo1B7D"
      },
      "execution_count": 9,
      "outputs": []
    },
    {
      "cell_type": "code",
      "source": [
        "#Packages for training and accuracy\n",
        "from sklearn.model_selection import train_test_split\n",
        "from sklearn.metrics import accuracy_score"
      ],
      "metadata": {
        "id": "8uoo1RqKJooj"
      },
      "execution_count": 4,
      "outputs": []
    },
    {
      "cell_type": "code",
      "source": [
        "# Loading the mnist dataset from google drive\n",
        "x, y = read_image_data('/content/drive/MyDrive/mnist_train.csv')\n",
        "\n",
        "# Convert lists to numpy arrays\n",
        "x = np.array(x)\n",
        "y = np.array(y)\n",
        "\n",
        "#(80% training, 20% test)\n",
        "x_train, x_test, y_train, y_test = train_test_split(x, y, test_size=0.2, random_state=42)\n",
        "x_train = (x_train - np.mean(x_train)) / np.std(x_train)\n",
        "x_test = (x_test - np.mean(x_test)) / np.std(x_test)"
      ],
      "metadata": {
        "id": "tVbAdPyI0RV2"
      },
      "execution_count": 6,
      "outputs": []
    },
    {
      "cell_type": "code",
      "source": [
        "net1 = Network1([784, 10])\n",
        "\n",
        "# Train the model\n",
        "\n",
        "def train_model(net1, x_train, y_train, learning_rate, epochs):\n",
        "    losses = []\n",
        "    for epoch in range(epochs):\n",
        "        epoch_loss = 0\n",
        "        for x, y in zip(x_train, y_train):\n",
        "            y_one_hot = np.zeros((net1.sizes[-1], 1))\n",
        "            y_one_hot[y] = 1\n",
        "            loss = net1.gradient_descent1(x.reshape(-1, 1), y_one_hot, learning_rate)\n",
        "            epoch_loss += loss\n",
        "        epoch_loss /= len(x_train)  # Compute average loss for the epoch\n",
        "        losses.append(epoch_loss)\n",
        "        print(f\"Epoch {epoch+1}/{epochs}, Loss: {epoch_loss:.4f}\")\n",
        "\n",
        "    # Plot loss curve\n",
        "    plt.plot(losses)\n",
        "    plt.xlabel('Epoch')\n",
        "    plt.ylabel('Loss')\n",
        "    plt.title('Training Loss Curve')\n",
        "    plt.show()\n",
        "#hyperparameters\n",
        "learning_rate = 0.01\n",
        "epochs = 100\n",
        "\n",
        "# Train the model\n",
        "train_model(net1, x_train, y_train, learning_rate, epochs)\n",
        "\n",
        "# Evaluate the trained model\n",
        "def evaluate_model(net, x_test, y_test):\n",
        "    predictions = []\n",
        "    for x, y in zip(x_test, y_test):\n",
        "        output = net.feedforward(x.reshape(-1, 1))\n",
        "        prediction = np.argmax(output)\n",
        "        predictions.append(prediction)\n",
        "    return predictions\n",
        "\n",
        "\n",
        "y_pred = evaluate_model(net1, x_test, y_test)\n",
        "\n",
        "#accuracy\n",
        "accuracy = accuracy_score(y_test, y_pred)\n",
        "print(\"Test Accuracy:\", accuracy)\n"
      ],
      "metadata": {
        "colab": {
          "base_uri": "https://localhost:8080/",
          "height": 1000
        },
        "id": "n5luHjpq1kDZ",
        "outputId": "c269e94c-28a5-4db3-ba4e-b1573dd4fd32"
      },
      "execution_count": 12,
      "outputs": [
        {
          "output_type": "stream",
          "name": "stdout",
          "text": [
            "Epoch 1/100, Loss: 2.3857\n",
            "Epoch 2/100, Loss: 1.3297\n",
            "Epoch 3/100, Loss: 1.1096\n",
            "Epoch 4/100, Loss: 0.9944\n",
            "Epoch 5/100, Loss: 0.9261\n",
            "Epoch 6/100, Loss: 0.8767\n",
            "Epoch 7/100, Loss: 0.8436\n",
            "Epoch 8/100, Loss: 0.8134\n",
            "Epoch 9/100, Loss: 0.7968\n",
            "Epoch 10/100, Loss: 0.7771\n",
            "Epoch 11/100, Loss: 0.7668\n",
            "Epoch 12/100, Loss: 0.7546\n",
            "Epoch 13/100, Loss: 0.7449\n",
            "Epoch 14/100, Loss: 0.7431\n",
            "Epoch 15/100, Loss: 0.7347\n",
            "Epoch 16/100, Loss: 0.7271\n",
            "Epoch 17/100, Loss: 0.7257\n",
            "Epoch 18/100, Loss: 0.7179\n",
            "Epoch 19/100, Loss: 0.7161\n",
            "Epoch 20/100, Loss: 0.7118\n",
            "Epoch 21/100, Loss: 0.7144\n",
            "Epoch 22/100, Loss: 0.7055\n",
            "Epoch 23/100, Loss: 0.7060\n",
            "Epoch 24/100, Loss: 0.7037\n",
            "Epoch 25/100, Loss: 0.7033\n",
            "Epoch 26/100, Loss: 0.6980\n",
            "Epoch 27/100, Loss: 0.6994\n",
            "Epoch 28/100, Loss: 0.6933\n",
            "Epoch 29/100, Loss: 0.6922\n",
            "Epoch 30/100, Loss: 0.6897\n",
            "Epoch 31/100, Loss: 0.6916\n",
            "Epoch 32/100, Loss: 0.6893\n",
            "Epoch 33/100, Loss: 0.6891\n",
            "Epoch 34/100, Loss: 0.6850\n",
            "Epoch 35/100, Loss: 0.6895\n",
            "Epoch 36/100, Loss: 0.6853\n",
            "Epoch 37/100, Loss: 0.6864\n",
            "Epoch 38/100, Loss: 0.6774\n",
            "Epoch 39/100, Loss: 0.6821\n",
            "Epoch 40/100, Loss: 0.6816\n",
            "Epoch 41/100, Loss: 0.6799\n",
            "Epoch 42/100, Loss: 0.6816\n",
            "Epoch 43/100, Loss: 0.6739\n",
            "Epoch 44/100, Loss: 0.6778\n",
            "Epoch 45/100, Loss: 0.6738\n",
            "Epoch 46/100, Loss: 0.6738\n",
            "Epoch 47/100, Loss: 0.6748\n",
            "Epoch 48/100, Loss: 0.6736\n",
            "Epoch 49/100, Loss: 0.6751\n",
            "Epoch 50/100, Loss: 0.6732\n",
            "Epoch 51/100, Loss: 0.6750\n",
            "Epoch 52/100, Loss: 0.6730\n",
            "Epoch 53/100, Loss: 0.6730\n",
            "Epoch 54/100, Loss: 0.6725\n",
            "Epoch 55/100, Loss: 0.6696\n",
            "Epoch 56/100, Loss: 0.6703\n",
            "Epoch 57/100, Loss: 0.6690\n",
            "Epoch 58/100, Loss: 0.6690\n",
            "Epoch 59/100, Loss: 0.6684\n",
            "Epoch 60/100, Loss: 0.6740\n",
            "Epoch 61/100, Loss: 0.6657\n",
            "Epoch 62/100, Loss: 0.6740\n",
            "Epoch 63/100, Loss: 0.6677\n",
            "Epoch 64/100, Loss: 0.6724\n",
            "Epoch 65/100, Loss: 0.6689\n",
            "Epoch 66/100, Loss: 0.6707\n",
            "Epoch 67/100, Loss: 0.6686\n",
            "Epoch 68/100, Loss: 0.6668\n",
            "Epoch 69/100, Loss: 0.6647\n",
            "Epoch 70/100, Loss: 0.6641\n",
            "Epoch 71/100, Loss: 0.6665\n",
            "Epoch 72/100, Loss: 0.6674\n",
            "Epoch 73/100, Loss: 0.6671\n",
            "Epoch 74/100, Loss: 0.6655\n",
            "Epoch 75/100, Loss: 0.6631\n",
            "Epoch 76/100, Loss: 0.6706\n",
            "Epoch 77/100, Loss: 0.6665\n",
            "Epoch 78/100, Loss: 0.6624\n",
            "Epoch 79/100, Loss: 0.6635\n",
            "Epoch 80/100, Loss: 0.6706\n",
            "Epoch 81/100, Loss: 0.6650\n",
            "Epoch 82/100, Loss: 0.6606\n",
            "Epoch 83/100, Loss: 0.6668\n",
            "Epoch 84/100, Loss: 0.6620\n",
            "Epoch 85/100, Loss: 0.6611\n",
            "Epoch 86/100, Loss: 0.6647\n",
            "Epoch 87/100, Loss: 0.6632\n",
            "Epoch 88/100, Loss: 0.6616\n",
            "Epoch 89/100, Loss: 0.6604\n",
            "Epoch 90/100, Loss: 0.6630\n",
            "Epoch 91/100, Loss: 0.6601\n",
            "Epoch 92/100, Loss: 0.6536\n",
            "Epoch 93/100, Loss: 0.6666\n",
            "Epoch 94/100, Loss: 0.6610\n",
            "Epoch 95/100, Loss: 0.6604\n",
            "Epoch 96/100, Loss: 0.6625\n",
            "Epoch 97/100, Loss: 0.6629\n",
            "Epoch 98/100, Loss: 0.6557\n",
            "Epoch 99/100, Loss: 0.6626\n",
            "Epoch 100/100, Loss: 0.6589\n"
          ]
        },
        {
          "output_type": "display_data",
          "data": {
            "text/plain": [
              "<Figure size 640x480 with 1 Axes>"
            ],
            "image/png": "[encoded data removed]"
          },
          "metadata": {}
        },
        {
          "output_type": "stream",
          "name": "stdout",
          "text": [
            "Test Accuracy: 0.879\n"
          ]
        }
      ]
    },
    {
      "cell_type": "markdown",
      "metadata": {
        "id": "es4-erMf3ChO"
      },
      "source": [
        "#Problem 3:\n",
        "\n",
        "Extend your code from problem 2 to support a single layer neural network with n hidden units (e.g. An  architecture: 784 > 10 > 10). These hidden units should be using sigmoid activations.\n",
        "\n",
        "For this problem you must write a function that takes as an input a matrix of x values, a list of y  values (as returned from problem 1), list of weight matrices, a list of bias vectors, and a learning rate and performs a single step of backpropagation. You will need to do both a forward step with the inputs to get the outputs, and then a backward prop to get the gradients. Return the  updated weight matrix and bias in the same format as it was passed.\n",
        "\n",
        "The list of weight matrices is a list with 2 entries where each entry in the list contains a single weight matrix as previously defined in problem 2. For a network with shape 784 > 10 > 10 the passed list  of weight matrices would look like this: [matrix with shape 784x10, matrix with shape 10x10]. Note:  though a hidden layer of size 10 is used as an example here, your code must be able to support a hidden  layer of dimension n.\n",
        "\n",
        "The list of bias vectors will be in the form where each entry in the list is a vector with the same  length as the first set of weights. (e.g. For an architecture of 784 > 10 > 10, there will be a two element  list with an vector of size 10 and a vector of size 10)"
      ]
    },
    {
      "cell_type": "code",
      "source": [
        "class Network2(object):\n",
        "    def __init__(self, sizes):\n",
        "        self.num_layers = len(sizes)\n",
        "        self.sizes = sizes\n",
        "        self.biases = [np.random.randn(y, 1) for y in sizes[1:]]\n",
        "        self.weights = [np.random.randn(y, x) / np.sqrt(x) for x, y in zip(sizes[:-1], sizes[1:])] #xavier initialization\n",
        "\n",
        "\n",
        "    def feedforward(self, a):\n",
        "        for b, w in zip(self.biases, self.weights):\n",
        "            a = sigmoid(np.dot(w, a) + b)\n",
        "        return a\n",
        "\n",
        "    def gradient_descent(self, x, y, learning_rate):\n",
        "        # Forward pass\n",
        "        activations = [x]\n",
        "        zs = []\n",
        "        for b, w in zip(self.biases, self.weights):\n",
        "            z = np.dot(w, activations[-1]) + b\n",
        "            zs.append(z)\n",
        "            activations.append(sigmoid(z))\n",
        "\n",
        "        # Backward pass\n",
        "        delta = self.cost_derivative(activations[-1], y) * sigmoid_prime(zs[-1])\n",
        "        nabla_b = [delta]\n",
        "        nabla_w = [np.dot(delta, activations[-2].transpose())]\n",
        "\n",
        "        for l in range(2, self.num_layers):\n",
        "            z = zs[-l]\n",
        "            sp = sigmoid_prime(z)\n",
        "            delta = np.dot(self.weights[-l + 1].transpose(), delta) * sp\n",
        "            nabla_b.append(delta)\n",
        "            nabla_w.append(np.dot(delta, activations[-l - 1].transpose()))\n",
        "        nabla_b.reverse()\n",
        "        nabla_w.reverse()\n",
        "\n",
        "        # Gradient descent update\n",
        "        self.weights = [w - learning_rate * nw for w, nw in zip(self.weights, nabla_w)]\n",
        "        self.biases = [b - learning_rate * nb for b, nb in zip(self.biases, nabla_b)]\n",
        "\n",
        "    def cost_derivative(self, output_activations, y):\n",
        "        return output_activations - y\n",
        "def sigmoid(z):\n",
        "    return 1.0 / (1.0 + np.exp(-z))\n",
        "\n",
        "def sigmoid_prime(z):\n",
        "    return sigmoid(z) * (1 - sigmoid(z))\n"
      ],
      "metadata": {
        "id": "CTuHPiMSBqeq"
      },
      "execution_count": 13,
      "outputs": []
    },
    {
      "cell_type": "code",
      "source": [
        "net2 = Network2([784,10,10])"
      ],
      "metadata": {
        "id": "od3ASArjLuc9"
      },
      "execution_count": 14,
      "outputs": []
    },
    {
      "cell_type": "code",
      "source": [
        "# Load the data\n",
        "x, y = read_image_data('/content/drive/MyDrive/mnist_train.csv')\n",
        "\n",
        "# Convert lists to numpy arrays\n",
        "x = np.array(x)\n",
        "y = np.array(y)\n",
        "\n",
        "# (80% training, 20% test)\n",
        "x_train, x_test, y_train, y_test = train_test_split(x, y, test_size=0.2, random_state=42)\n",
        "x_train = (x_train - np.mean(x_train)) / np.std(x_train)\n",
        "x_test = (x_test - np.mean(x_test)) / np.std(x_test)"
      ],
      "metadata": {
        "id": "aj2z1hxUL3Ag"
      },
      "execution_count": 15,
      "outputs": []
    },
    {
      "cell_type": "code",
      "source": [
        "# Train the model\n",
        "def train_model(net2, x_train, y_train, learning_rate, epochs):\n",
        "    for epoch in range(epochs):\n",
        "        for x, y in zip(x_train, y_train):\n",
        "            y_one_hot = np.zeros((10, 1))\n",
        "            y_one_hot[y] = 1\n",
        "\n",
        "            # Perform gradient descent update\n",
        "            net2.gradient_descent(x.reshape(-1, 1), y_one_hot, learning_rate)\n",
        "\n",
        "# hyperparameters\n",
        "learning_rate = 0.01\n",
        "epochs = 100\n",
        "\n",
        "# Train the model\n",
        "train_model(net2, x_train, y_train, learning_rate, epochs)\n",
        "\n",
        "# Evaluate the trained model\n",
        "def evaluate_model(net2, x_test, y_test):\n",
        "    predictions = []\n",
        "    for x, y in zip(x_test, y_test):\n",
        "        # Forward pass\n",
        "        output = net2.feedforward(x.reshape(-1, 1))\n",
        "        prediction = np.argmax(output)\n",
        "        predictions.append(prediction)\n",
        "    return predictions\n",
        "\n",
        "y_pred = evaluate_model(net2, x_test, y_test)\n",
        "\n",
        "# Accuracy\n",
        "accuracy = accuracy_score(y_test, y_pred)\n",
        "print(\"Test Accuracy:\", accuracy)\n"
      ],
      "metadata": {
        "colab": {
          "base_uri": "https://localhost:8080/"
        },
        "id": "p3IWfcLhLqel",
        "outputId": "a6cf08b1-aaa9-47c9-ed4b-805ed8f88af0"
      },
      "execution_count": 16,
      "outputs": [
        {
          "output_type": "stream",
          "name": "stdout",
          "text": [
            "Test Accuracy: 0.911\n"
          ]
        }
      ]
    },
    {
      "cell_type": "markdown",
      "source": [
        "\n",
        "\n",
        "*   From problem 3 and 4, Experimenting with Xavier intialization {self.weights = [np.random.randn(y, x) / np.sqrt(x) for x, y in zip(sizes[:-1], sizes[1:])]} helped neural netwrok with n hidden layers to increase the accuracy at some extent.\n",
        "\n",
        "\n"
      ],
      "metadata": {
        "id": "0AYlDKXzAA_r"
      }
    },
    {
      "cell_type": "markdown",
      "metadata": {
        "id": "JT77_c2Q3IKw"
      },
      "source": [
        "#Problem 4:\n",
        "\n",
        "Extend your code from problem 3 (use cross entropy error) and implement a multi-layer neural  network, starting with a simple architecture containing any number of hidden units in each layer (e.g. With  architecture: 784 > 10 > 10 > 10). These hidden units should be using sigmoid activations.\n",
        "\n",
        "For this problem you must write a function that takes as an input a matrix of x values, a list of y  values (as returned from problem 1), list of weight matrices, a list of bias vectors, and a learning rate and  performs a single step of backpropagation. You will need to do both a forward step with the inputs to  get the outputs, and then a backward prop to get the gradients. Return the updated weight matrix and  bias in the same format as it was passed.\n",
        "\n",
        "The list of weight matrices is a list with k entries where each entry in the list contains a single  weight matrix as previously defined in problem 2. For a network with shape 784 > 10 > 10 > 10 the  passed list of weight matrices would look like this: [matrix with shape 784x10, matrix with shape 10x10,  matrix with shape 10x10]. Note: though a hidden layer of size 10 is used as an example here, your code  must be able to support a hidden layer of dimension n.\n",
        "\n",
        "The list of bias vectors will be in the form where each entry in the list is a vector with the same  length as the first set of weights. (e.g. For an architecture of 784 > 10 > 10, there will be a two element  list with an vector of size 10 and a vector of size 10)"
      ]
    },
    {
      "cell_type": "code",
      "execution_count": 17,
      "metadata": {
        "id": "MzxogZ2z3NJ8"
      },
      "outputs": [],
      "source": [
        "import numpy as np\n",
        "\n",
        "class Network3(object):\n",
        "    def __init__(self, sizes):\n",
        "        self.num_layers = len(sizes)\n",
        "        self.sizes = sizes\n",
        "        self.biases = [np.random.randn(y, 1) for y in sizes[1:]]\n",
        "        #self.weights = [np.random.randn(y, x) for x, y in zip(sizes[:-1], sizes[1:])]\n",
        "        self.weights = [np.random.randn(y, x) / np.sqrt(x) for x, y in zip(sizes[:-1], sizes[1:])] #xavier initialization\n",
        "\n",
        "    def feedforward(self, a):\n",
        "        for b, w in zip(self.biases, self.weights):\n",
        "            a = sigmoid(np.dot(w, a) + b)\n",
        "        return a\n",
        "\n",
        "    def gradient_descent3(self, x, y, learning_rate):\n",
        "        # Forward pass\n",
        "        activation = x\n",
        "        activations = [x]\n",
        "        zs = []\n",
        "        for b, w in zip(self.biases, self.weights):\n",
        "            z = np.dot(w, activation) + b\n",
        "            zs.append(z)\n",
        "            activation = sigmoid(z)\n",
        "            activations.append(activation)\n",
        "\n",
        "        # Backward pass\n",
        "        delta = self.cost_derivative(activations[-1], y)\n",
        "        nabla_b = [np.sum(delta, axis=1, keepdims=True)]\n",
        "        nabla_w = [np.dot(delta, activations[-2].transpose())]\n",
        "\n",
        "        for l in range(2, self.num_layers):\n",
        "            z = zs[-l]\n",
        "            sp = sigmoid_prime(z)\n",
        "            delta = np.dot(self.weights[-l + 1].transpose(), delta) * sp\n",
        "            nabla_b.insert(0, np.sum(delta, axis=1, keepdims=True))\n",
        "            nabla_w.insert(0, np.dot(delta, activations[-l - 1].transpose()))\n",
        "\n",
        "        # Gradient descent update\n",
        "        self.weights = [w - learning_rate * nw for w, nw in zip(self.weights, nabla_w)]\n",
        "        self.biases = [b - learning_rate * nb for b, nb in zip(self.biases, nabla_b)]\n",
        "\n",
        "    def cost_derivative(self, output_activations, y):\n",
        "        return (output_activations - y)\n",
        "\n",
        "def sigmoid(z):\n",
        "    return 1.0 / (1.0 + np.exp(-z))\n",
        "\n",
        "def sigmoid_prime(z):\n",
        "    return sigmoid(z) * (1 - sigmoid(z))\n"
      ]
    },
    {
      "cell_type": "code",
      "source": [
        "net3 = Network3([784,10,10,10])"
      ],
      "metadata": {
        "id": "Amf91fH1s9TZ"
      },
      "execution_count": 18,
      "outputs": []
    },
    {
      "cell_type": "code",
      "source": [
        "# Load the data\n",
        "x, y = read_image_data('/content/drive/MyDrive/mnist_train.csv')\n",
        "\n",
        "# Convert lists to numpy arrays\n",
        "x = np.array(x)\n",
        "y = np.array(y)\n",
        "\n",
        "# Split the data into training and test sets (80% training, 20% test)\n",
        "x_train, x_test, y_train, y_test = train_test_split(x, y, test_size=0.2, random_state=42)\n",
        "x_train = (x_train - np.mean(x_train)) / np.std(x_train)\n",
        "x_test = (x_test - np.mean(x_test)) / np.std(x_test)"
      ],
      "metadata": {
        "id": "nr1ARIIotGcK"
      },
      "execution_count": 19,
      "outputs": []
    },
    {
      "cell_type": "code",
      "source": [
        "# Train the model\n",
        "def train_model(net3, x_train, y_train, learning_rate, epochs):\n",
        "    for epoch in range(epochs):\n",
        "        for x, y in zip(x_train, y_train):\n",
        "            y_one_hot = np.zeros((10, 1))\n",
        "            y_one_hot[y] = 1\n",
        "\n",
        "            net3.gradient_descent3(x.reshape(-1, 1), y_one_hot, learning_rate)\n",
        "\n",
        "# Hyperparameters\n",
        "learning_rate = 0.01\n",
        "epochs = 100\n",
        "\n",
        "# Train the model\n",
        "train_model(net3, x_train, y_train, learning_rate, epochs)\n",
        "\n",
        "# Evaluate the trained model\n",
        "def evaluate_model(net3, x_test, y_test):\n",
        "    predictions = []\n",
        "    for x, y in zip(x_test, y_test):\n",
        "        # Forward pass\n",
        "        output = net3.feedforward(x.reshape(-1, 1))\n",
        "        prediction = np.argmax(output)\n",
        "        predictions.append(prediction)\n",
        "    return predictions\n",
        "\n",
        "y_pred = evaluate_model(net3, x_test, y_test)\n",
        "\n",
        "# Accuracy\n",
        "accuracy = accuracy_score(y_test, y_pred)\n",
        "print(\"Test Accuracy:\", accuracy)"
      ],
      "metadata": {
        "colab": {
          "base_uri": "https://localhost:8080/"
        },
        "id": "5FXxE9xStLV2",
        "outputId": "7088b253-5d22-4531-b4b0-4533546379c3"
      },
      "execution_count": 20,
      "outputs": [
        {
          "output_type": "stream",
          "name": "stdout",
          "text": [
            "Test Accuracy: 0.913\n"
          ]
        }
      ]
    },
    {
      "cell_type": "markdown",
      "source": [
        "\n",
        "\n",
        "*   Multi-layered neural network and neural network with n hidden layers shows an increased accuracy while performing xavier initialization.\n",
        "\n",
        "\n"
      ],
      "metadata": {
        "id": "q2tr6hVtB1Kz"
      }
    },
    {
      "cell_type": "markdown",
      "metadata": {
        "id": "h9GJyBnr3Nhd"
      },
      "source": [
        "#Problem 5:\n",
        "\n",
        "Extend your code from problem 4 to implement different activations functions which will be  passed as a parameter. In this problem all activations (except the final layer which should remain a  softmax) must be changed to the passed activation function."
      ]
    },
    {
      "cell_type": "code",
      "source": [
        "class Network4(object):\n",
        "    def __init__(self, sizes, activation_function):\n",
        "        self.num_layers = len(sizes)\n",
        "        self.sizes = sizes\n",
        "        self.biases = [np.random.randn(y, 1) for y in sizes[1:]]\n",
        "        self.weights = [np.random.randn(y, x) / np.sqrt(x) for x, y in zip(sizes[:-1], sizes[1:])] # Xavier initialization\n",
        "        self.activation_function = activation_function\n",
        "\n",
        "    def feedforward(self, a):\n",
        "        for b, w in zip(self.biases[:-1], self.weights[:-1]):\n",
        "            a = self.activation_function(np.dot(w, a) + b)\n",
        "        z_output = np.dot(self.weights[-1], a) + self.biases[-1]\n",
        "        output = softmax(z_output)\n",
        "        return output\n",
        "\n",
        "    def gradient_descent4(self, x, y, learning_rate):\n",
        "        # Forward pass\n",
        "        activation = x\n",
        "        activations = [x]\n",
        "        zs = []\n",
        "        for b, w in zip(self.biases, self.weights):\n",
        "            z = np.dot(w, activation) + b\n",
        "            zs.append(z)\n",
        "            activation = self.activation_function(z)\n",
        "            activations.append(activation)\n",
        "\n",
        "        # Backward pass\n",
        "        delta = self.cost_derivative(activations[-1], y)\n",
        "        nabla_b = [np.sum(delta, axis=1, keepdims=True)]\n",
        "        nabla_w = [np.dot(delta, activations[-2].transpose())]\n",
        "\n",
        "        for l in range(2, self.num_layers):\n",
        "            z = zs[-l]\n",
        "            sp = self.activation_prime(z)\n",
        "            delta = np.dot(self.weights[-l + 1].transpose(), delta) * sp\n",
        "            nabla_b.insert(0, np.sum(delta, axis=1, keepdims=True))\n",
        "            nabla_w.insert(0, np.dot(delta, activations[-l - 1].transpose()))\n",
        "\n",
        "        # Gradient descent update\n",
        "        self.weights = [w - learning_rate * nw for w, nw in zip(self.weights, nabla_w)]\n",
        "        self.biases = [b - learning_rate * nb for b, nb in zip(self.biases, nabla_b)]\n",
        "\n",
        "    def cost_derivative(self, output_activations, y):\n",
        "        return (output_activations - y)\n",
        "\n",
        "    def activation_prime(self, z):\n",
        "        if self.activation_function == sigmoid:\n",
        "            return sigmoid_prime(z)\n",
        "        elif self.activation_function == relu:\n",
        "            return relu_prime(z)\n",
        "        elif self.activation_function == tanh:\n",
        "            return tanh_prime(z)\n",
        "        elif self.activation_function == leaky_relu:\n",
        "            return leaky_relu_prime(z)\n",
        "\n",
        "# Define activation functions\n",
        "def sigmoid(z):\n",
        "    return 1.0 / (1.0 + np.exp(-z))\n",
        "\n",
        "def sigmoid_prime(z):\n",
        "    return sigmoid(z) * (1 - sigmoid(z))\n",
        "\n",
        "def relu(z):\n",
        "    return np.maximum(0, z)\n",
        "\n",
        "def relu_prime(z):\n",
        "    return np.where(z > 0, 1, 0)\n",
        "\n",
        "def tanh(z):\n",
        "    return np.tanh(z)\n",
        "\n",
        "def tanh_prime(z):\n",
        "    return 1 - np.tanh(z)**2\n",
        "\n",
        "def leaky_relu(z, alpha=0.01):\n",
        "    return np.where(z > 0, z, z * alpha)\n",
        "\n",
        "def leaky_relu_prime(z, alpha=0.01):\n",
        "    return np.where(z > 0, 1, alpha)\n",
        "\n",
        "def softmax(z):\n",
        "    max_z = np.max(z)\n",
        "    exp_scores = np.exp(z - max_z)\n",
        "    return exp_scores / np.sum(exp_scores)\n"
      ],
      "metadata": {
        "id": "9er8tJd8jOK6"
      },
      "execution_count": 21,
      "outputs": []
    },
    {
      "cell_type": "markdown",
      "source": [
        "\n",
        "\n",
        "*   Here it is necessary to use Xavier initialization to get a proper accuracy\n",
        "\n",
        "\n"
      ],
      "metadata": {
        "id": "iuLrVZusEmkC"
      }
    },
    {
      "cell_type": "markdown",
      "source": [
        "#Leaky ReLu"
      ],
      "metadata": {
        "id": "COKQvhWsjv0B"
      }
    },
    {
      "cell_type": "code",
      "source": [
        "sizes = [784, 10, 10, 10]\n",
        "activation_function = leaky_relu\n",
        "netlr = Network4(sizes, activation_function)"
      ],
      "metadata": {
        "id": "-1bEefASjsnl"
      },
      "execution_count": 22,
      "outputs": []
    },
    {
      "cell_type": "code",
      "source": [
        "#Train the model\n",
        "def train_model(netlr, x_train, y_train, learning_rate, epochs):\n",
        "    for epoch in range(epochs):\n",
        "        for x, y in zip(x_train, y_train):\n",
        "            y_one_hot = np.zeros((10, 1))\n",
        "            y_one_hot[y] = 1\n",
        "            netlr.gradient_descent4(x.reshape(-1, 1), y_one_hot, learning_rate)\n",
        "\n",
        "#hyperparameters\n",
        "learning_rate = 0.01\n",
        "epochs = 100\n",
        "\n",
        "# Train the model\n",
        "train_model(netlr, x_train, y_train, learning_rate, epochs)\n",
        "\n",
        "# Evaluate the trained model\n",
        "def evaluate_model(netlr, x_test, y_test):\n",
        "    predictions = []\n",
        "    for x, y in zip(x_test, y_test):\n",
        "        # Forward pass\n",
        "        output = netlr.feedforward(x.reshape(-1, 1))\n",
        "        prediction = np.argmax(output)\n",
        "        predictions.append(prediction)\n",
        "    return predictions\n",
        "y_pred = evaluate_model(netlr, x_test, y_test)\n",
        "\n",
        "# accuracy\n",
        "accuracy = accuracy_score(y_test, y_pred)\n",
        "print(\"Test Accuracy:\", accuracy)"
      ],
      "metadata": {
        "colab": {
          "base_uri": "https://localhost:8080/"
        },
        "id": "XGUyaE0dju-s",
        "outputId": "c278b79d-6a39-4486-a92a-15eb20b9ace8"
      },
      "execution_count": 23,
      "outputs": [
        {
          "output_type": "stream",
          "name": "stdout",
          "text": [
            "Test Accuracy: 0.9184166666666667\n"
          ]
        }
      ]
    },
    {
      "cell_type": "markdown",
      "source": [
        "#Sigmoid\n"
      ],
      "metadata": {
        "id": "OxhK0WSuVVro"
      }
    },
    {
      "cell_type": "code",
      "source": [
        "sizes = [784, 10, 10, 10]\n",
        "activation_function = sigmoid\n",
        "nets = Network4(sizes, activation_function)"
      ],
      "metadata": {
        "id": "uG5zld3oRlEM"
      },
      "execution_count": 24,
      "outputs": []
    },
    {
      "cell_type": "code",
      "source": [
        "#Train the model\n",
        "def train_model(nets, x_train, y_train, learning_rate, epochs):\n",
        "    for epoch in range(epochs):\n",
        "        for x, y in zip(x_train, y_train):\n",
        "            y_one_hot = np.zeros((10, 1))\n",
        "            y_one_hot[y] = 1\n",
        "            nets.gradient_descent4(x.reshape(-1, 1), y_one_hot, learning_rate)\n",
        "\n",
        "# hyperparameters\n",
        "learning_rate = 0.01\n",
        "epochs = 100\n",
        "\n",
        "# Train the model\n",
        "train_model(nets, x_train, y_train, learning_rate, epochs)\n",
        "\n",
        "# Evaluate the trained model\n",
        "def evaluate_model(nets, x_test, y_test):\n",
        "    predictions = []\n",
        "    for x, y in zip(x_test, y_test):\n",
        "        # Forward pass\n",
        "        output = nets.feedforward(x.reshape(-1, 1))\n",
        "        prediction = np.argmax(output)\n",
        "        predictions.append(prediction)\n",
        "    return predictions\n",
        "y_pred = evaluate_model(nets, x_test, y_test)\n",
        "\n",
        "# accuracy\n",
        "accuracy = accuracy_score(y_test, y_pred)\n",
        "print(\"Test Accuracy:\", accuracy)"
      ],
      "metadata": {
        "colab": {
          "base_uri": "https://localhost:8080/"
        },
        "outputId": "e7910c54-19cc-47e7-d459-0bf454a4239c",
        "id": "x8gFoms6Rbga"
      },
      "execution_count": 25,
      "outputs": [
        {
          "output_type": "stream",
          "name": "stdout",
          "text": [
            "Test Accuracy: 0.90725\n"
          ]
        }
      ]
    },
    {
      "cell_type": "markdown",
      "source": [
        "#ReLu\n"
      ],
      "metadata": {
        "id": "o1mXC1a_Vqj7"
      }
    },
    {
      "cell_type": "code",
      "source": [
        "sizes = [784, 10, 10, 10]\n",
        "activation_function = relu\n",
        "netr = Network4(sizes, activation_function)"
      ],
      "metadata": {
        "id": "iR0WcibtVqAm"
      },
      "execution_count": null,
      "outputs": []
    },
    {
      "cell_type": "code",
      "source": [
        "#Train the model\n",
        "def train_model(netr, x_train, y_train, learning_rate, epochs):\n",
        "    for epoch in range(epochs):\n",
        "        for x, y in zip(x_train, y_train):\n",
        "            y_one_hot = np.zeros((10, 1))\n",
        "            y_one_hot[y] = 1\n",
        "            netr.gradient_descent4(x.reshape(-1, 1), y_one_hot, learning_rate)\n",
        "\n",
        "# hyperparameters\n",
        "learning_rate = 0.01\n",
        "epochs = 10\n",
        "\n",
        "# Train the model\n",
        "train_model(netr, x_train, y_train, learning_rate, epochs)\n",
        "\n",
        "# Evaluate the trained model\n",
        "def evaluate_model(netr, x_test, y_test):\n",
        "    predictions = []\n",
        "    for x, y in zip(x_test, y_test):\n",
        "        # Forward pass\n",
        "        output = netr.feedforward(x.reshape(-1, 1))\n",
        "        prediction = np.argmax(output)\n",
        "        predictions.append(prediction)\n",
        "    return predictions\n",
        "y_pred = evaluate_model(netr, x_test, y_test)\n",
        "\n",
        "# accuracy\n",
        "accuracy = accuracy_score(y_test, y_pred)\n",
        "print(\"Test Accuracy:\", accuracy)"
      ],
      "metadata": {
        "colab": {
          "base_uri": "https://localhost:8080/"
        },
        "id": "7gAJgAWXVzYQ",
        "outputId": "499ad118-6b50-480b-80b4-83fd4978d0b0"
      },
      "execution_count": null,
      "outputs": [
        {
          "output_type": "stream",
          "name": "stdout",
          "text": [
            "Test Accuracy: 0.8941666666666667\n"
          ]
        }
      ]
    },
    {
      "cell_type": "markdown",
      "source": [
        "#tanh"
      ],
      "metadata": {
        "id": "4P8LTdStWB-q"
      }
    },
    {
      "cell_type": "code",
      "source": [
        "sizes = [784, 10, 10, 10]\n",
        "activation_function = tanh\n",
        "nett = Network4(sizes, activation_function)"
      ],
      "metadata": {
        "id": "F-p-XPc7WDsa"
      },
      "execution_count": null,
      "outputs": []
    },
    {
      "cell_type": "code",
      "source": [
        "#Train the model\n",
        "def train_model(nett, x_train, y_train, learning_rate, epochs):\n",
        "    for epoch in range(epochs):\n",
        "        for x, y in zip(x_train, y_train):\n",
        "            y_one_hot = np.zeros((10, 1))\n",
        "            y_one_hot[y] = 1\n",
        "            nett.gradient_descent4(x.reshape(-1, 1), y_one_hot, learning_rate)\n",
        "\n",
        "# hyperparameters\n",
        "learning_rate = 0.01\n",
        "epochs = 10\n",
        "\n",
        "# Train the model\n",
        "train_model(nett, x_train, y_train, learning_rate, epochs)\n",
        "\n",
        "# Evaluate the trained model\n",
        "def evaluate_model(nett, x_test, y_test):\n",
        "    predictions = []\n",
        "    for x, y in zip(x_test, y_test):\n",
        "        # Forward pass\n",
        "        output = nett.feedforward(x.reshape(-1, 1))\n",
        "        prediction = np.argmax(output)\n",
        "        predictions.append(prediction)\n",
        "    return predictions\n",
        "y_pred = evaluate_model(nett, x_test, y_test)\n",
        "\n",
        "# accuracy\n",
        "accuracy = accuracy_score(y_test, y_pred)\n",
        "print(\"Test Accuracy:\", accuracy)"
      ],
      "metadata": {
        "colab": {
          "base_uri": "https://localhost:8080/"
        },
        "id": "mFigkEGAWF2e",
        "outputId": "80a94890-8cd1-4d96-f84d-2d76c7dd9397"
      },
      "execution_count": null,
      "outputs": [
        {
          "output_type": "stream",
          "name": "stdout",
          "text": [
            "Test Accuracy: 0.7325833333333334\n"
          ]
        }
      ]
    },
    {
      "cell_type": "markdown",
      "source": [
        "\n",
        "\n",
        "*   In problem 5, it is better to use Leaky ReLu. It gave accuracy of around 92% which is greter than sigmoid, ReLu and tanh\n",
        "\n"
      ],
      "metadata": {
        "id": "qY0c6FGSFby4"
      }
    },
    {
      "cell_type": "markdown",
      "metadata": {
        "id": "klegSin73SBF"
      },
      "source": [
        "#Problem 6:\n",
        "\n",
        "Extend your code from problem 5 to implement momentum with your gradient descent. The  momentum value will be passed as a parameter. Your function should perform “epoch” number of  epochs and return the resulting weights."
      ]
    },
    {
      "cell_type": "code",
      "source": [
        "class NetworkM(object):\n",
        "    def __init__(self, sizes, activation_function):\n",
        "        self.num_layers = len(sizes)\n",
        "        self.sizes = sizes\n",
        "        self.biases = [np.random.randn(y, 1) for y in sizes[1:]]\n",
        "        self.weights = [np.random.randn(y, x) / np.sqrt(x) for x, y in zip(sizes[:-1], sizes[1:])] # Xavier initialization\n",
        "        self.activation_function = activation_function\n",
        "        self.prev_delta_w = [np.zeros((y, x)) for x, y in zip(sizes[:-1], sizes[1:])]\n",
        "        self.prev_delta_b = [np.zeros((y, 1)) for y in sizes[1:]]\n",
        "\n",
        "\n",
        "    def feedforward(self, a):\n",
        "        for b, w in zip(self.biases[:-1], self.weights[:-1]):\n",
        "            a = self.activation_function(np.dot(w, a) + b)\n",
        "        z_output = np.dot(self.weights[-1], a) + self.biases[-1]\n",
        "        output = softmax(z_output)\n",
        "        return output\n",
        "\n",
        "    def gradient_descentM(self, x, y, learning_rate, momentum):\n",
        "        # Forward pass\n",
        "        activation = x\n",
        "        activations = [x]\n",
        "        zs = []\n",
        "        for b, w in zip(self.biases, self.weights):\n",
        "            z = np.dot(w, activation) + b\n",
        "            zs.append(z)\n",
        "            activation = self.activation_function(z)\n",
        "            activations.append(activation)\n",
        "\n",
        "        # Backward pass\n",
        "        delta = self.cost_derivative(activations[-1], y)\n",
        "        nabla_b = [np.sum(delta, axis=1, keepdims=True)]\n",
        "        nabla_w = [np.dot(delta, activations[-2].transpose())]\n",
        "\n",
        "        for l in range(2, self.num_layers):\n",
        "            z = zs[-l]\n",
        "            sp = self.activation_prime(z)\n",
        "            delta = np.dot(self.weights[-l + 1].transpose(), delta) * sp\n",
        "            nabla_b.insert(0, np.sum(delta, axis=1, keepdims=True))\n",
        "            nabla_w.insert(0, np.dot(delta, activations[-l - 1].transpose()))\n",
        "\n",
        "        # Gradient descent update with momentum\n",
        "        self.weights = [w - learning_rate * nw - momentum * pdw for w, nw, pdw in zip(self.weights, nabla_w, self.prev_delta_w)]\n",
        "        self.biases = [b - learning_rate * nb - momentum * pdb for b, nb, pdb in zip(self.biases, nabla_b, self.prev_delta_b)]\n",
        "        self.prev_delta_w = nabla_w\n",
        "        self.prev_delta_b = nabla_b\n",
        "\n",
        "    def cost_derivative(self, output_activations, y):\n",
        "        return (output_activations - y)\n",
        "\n",
        "    def activation_prime(self, z):\n",
        "        if self.activation_function == sigmoid:\n",
        "            return sigmoid_prime(z)\n",
        "        elif self.activation_function == relu:\n",
        "            return relu_prime(z)\n",
        "        elif self.activation_function == tanh:\n",
        "            return tanh_prime(z)\n",
        "        elif self.activation_function == leaky_relu:\n",
        "            return leaky_relu_prime(z)\n",
        "\n",
        "def sigmoid(z):\n",
        "    return 1 / (1 + np.exp(-np.clip(z, -709, 709)))\n",
        "\n",
        "\n",
        "def sigmoid_prime(z):\n",
        "    return sigmoid(z) * (1 - sigmoid(z))\n",
        "\n",
        "def relu(z):\n",
        "    return np.maximum(0, z)\n",
        "\n",
        "def relu_prime(z):\n",
        "    return np.where(z > 0, 1, 0)\n",
        "\n",
        "def tanh(z):\n",
        "    return np.tanh(z)\n",
        "\n",
        "def tanh_prime(z):\n",
        "    return 1 - np.tanh(z)**2\n",
        "\n",
        "def leaky_relu(z, alpha=0.01):\n",
        "    return np.where(z > 0, z, z * alpha)\n",
        "\n",
        "def leaky_relu_prime(z, alpha=0.01):\n",
        "    return np.where(z > 0, 1, alpha)\n",
        "\n",
        "def softmax(z):\n",
        "    max_z = np.max(z)\n",
        "    exp_scores = np.exp(z - max_z)  # Softmax normalization\n",
        "    return exp_scores / np.sum(exp_scores)\n"
      ],
      "metadata": {
        "id": "qgCR7BGZSvBB"
      },
      "execution_count": 26,
      "outputs": []
    },
    {
      "cell_type": "markdown",
      "source": [
        "#Sigmoid\n"
      ],
      "metadata": {
        "id": "neF9O1brHOYO"
      }
    },
    {
      "cell_type": "code",
      "source": [
        "sizes = [784, 10, 10, 10]\n",
        "activation_function = sigmoid\n",
        "netM = NetworkM(sizes, activation_function)\n",
        "\n",
        "# Train the model with momentum\n",
        "def train_model_with_momentum(netM, x_train, y_train, learning_rate, momentum, epochs):\n",
        "    for epoch in range(epochs):\n",
        "        for x, y in zip(x_train, y_train):\n",
        "            y_one_hot = np.zeros((10, 1))\n",
        "            y_one_hot[y] = 1\n",
        "\n",
        "\n",
        "            netM.gradient_descentM(x.reshape(-1, 1), y_one_hot, learning_rate, momentum)\n",
        "\n",
        "# hyperparameters\n",
        "learning_rate = .001\n",
        "momentum = 0.1\n",
        "epochs = 100\n",
        "\n",
        "# Train the model\n",
        "train_model_with_momentum(netM, x_train, y_train, learning_rate, momentum, epochs)\n",
        "\n",
        "# Evaluate the trained model\n",
        "y_pred = evaluate_model(netM, x_test, y_test)\n",
        "accuracy = accuracy_score(y_test, y_pred)\n",
        "print(\"Test Accuracy:\", accuracy)"
      ],
      "metadata": {
        "id": "QimDqrXIS9RA",
        "colab": {
          "base_uri": "https://localhost:8080/"
        },
        "outputId": "2fce16f8-bd08-41cf-f84e-f77443647c5c"
      },
      "execution_count": 27,
      "outputs": [
        {
          "output_type": "stream",
          "name": "stdout",
          "text": [
            "Test Accuracy: 0.89575\n"
          ]
        }
      ]
    },
    {
      "cell_type": "markdown",
      "source": [
        "Activation function: Sigmoid\n",
        "\n",
        "*   For Learning_rate=0.01, momentum =0.1 and epochs=10: Accuracy = 85%\n",
        "*   learning_rate = 0.001, momentum = 0.01 and epochs = 10: Accuracy = 90%\n",
        "*   learning_rate = 0.0001, momentum = 0.01 and epochs = 10: Accuracy = 90.4%\n",
        "*   learning_rate = 0.0001, momentum = 0.001 and epochs = 10: Accuracy = 90.2%\n",
        "*   learning_rate = 0.001, momentum = 0.2 and epochs = 10: Accuracy = 82.8%\n",
        "*   learning_rate = 0.001, momentum = 0.05 and epochs = 10: Accuracy = 90.2%\n",
        "*   learning_rate = 0.0001, momentum = 0.005 and epochs = 10: Accuracy = 91.2%\n",
        "*   learning_rate = 0.001, momentum = 0.1 and epochs = 100: Accuracy = 89.5%\n",
        "\n",
        "\n"
      ],
      "metadata": {
        "id": "Vg-VDX4AHePi"
      }
    }
  ],
  "metadata": {
    "colab": {
      "provenance": []
    },
    "kernelspec": {
      "display_name": "Python 3",
      "name": "python3"
    },
    "language_info": {
      "name": "python"
    }
  },
  "nbformat": 4,
  "nbformat_minor": 0
}